{
 "cells": [
  {
   "cell_type": "markdown",
   "metadata": {},
   "source": [
    "# Simplest NN"
   ]
  },
  {
   "cell_type": "code",
   "execution_count": 15,
   "metadata": {},
   "outputs": [],
   "source": [
    "import dlc_bci as bci\n",
    "import torch\n",
    "from torch.autograd import Variable\n",
    "from sklearn.metrics import accuracy_score\n",
    "import matplotlib.pyplot as plt\n",
    "%matplotlib inline"
   ]
  },
  {
   "cell_type": "code",
   "execution_count": 2,
   "metadata": {},
   "outputs": [
    {
     "name": "stdout",
     "output_type": "stream",
     "text": [
      "<class 'torch.FloatTensor'> torch.Size([316, 28, 500])\n",
      "<class 'torch.LongTensor'> torch.Size([316])\n"
     ]
    }
   ],
   "source": [
    "train_input , train_target = bci.load(root = './data_bci', train=True, one_khz=True)\n",
    "print(str(type(train_input)), train_input.size())\n",
    "print(str(type(train_target)), train_target.size())"
   ]
  },
  {
   "cell_type": "code",
   "execution_count": 3,
   "metadata": {},
   "outputs": [
    {
     "name": "stdout",
     "output_type": "stream",
     "text": [
      "<class 'torch.FloatTensor'> torch.Size([100, 28, 500])\n",
      "<class 'torch.LongTensor'> torch.Size([100])\n"
     ]
    }
   ],
   "source": [
    "test_input, test_target = bci.load(root = './data_bci', train=False, one_khz=True)\n",
    "print(str(type(test_input)), test_input.size())\n",
    "print(str(type(test_target)), test_target.size())"
   ]
  },
  {
   "cell_type": "code",
   "execution_count": 4,
   "metadata": {},
   "outputs": [],
   "source": [
    "train_input = train_input.view(train_input.shape[0], -1)\n",
    "test_input = test_input.view(test_input.shape[0], -1)"
   ]
  },
  {
   "cell_type": "code",
   "execution_count": 5,
   "metadata": {},
   "outputs": [
    {
     "data": {
      "text/plain": [
       "(torch.Size([316, 14000]), torch.Size([100, 14000]))"
      ]
     },
     "execution_count": 5,
     "metadata": {},
     "output_type": "execute_result"
    }
   ],
   "source": [
    "train_input.shape, test_input.shape"
   ]
  },
  {
   "cell_type": "code",
   "execution_count": 6,
   "metadata": {},
   "outputs": [],
   "source": [
    "def one_hot(batch,depth):\n",
    "    ones = torch.sparse.torch.eye(depth)\n",
    "    return ones.index_select(0,batch)"
   ]
  },
  {
   "cell_type": "code",
   "execution_count": 7,
   "metadata": {},
   "outputs": [],
   "source": [
    "train_target_1h = one_hot(train_target, 2)\n",
    "test_target_1h = one_hot(test_target, 2)"
   ]
  },
  {
   "cell_type": "code",
   "execution_count": 8,
   "metadata": {},
   "outputs": [
    {
     "data": {
      "text/plain": [
       "(torch.Size([316, 2]), torch.Size([100, 2]))"
      ]
     },
     "execution_count": 8,
     "metadata": {},
     "output_type": "execute_result"
    }
   ],
   "source": [
    "train_target_1h.shape, test_target_1h.shape"
   ]
  },
  {
   "cell_type": "code",
   "execution_count": 9,
   "metadata": {},
   "outputs": [],
   "source": [
    "train_input_var = Variable(train_input)\n",
    "train_target_var = Variable(train_target, requires_grad=False)\n",
    "\n",
    "test_input_var = Variable(test_input)\n",
    "test_target_var = Variable(test_target, requires_grad=False)"
   ]
  },
  {
   "cell_type": "code",
   "execution_count": 40,
   "metadata": {},
   "outputs": [],
   "source": [
    "D_in = train_input.shape[1]\n",
    "H = 256\n",
    "D_out = 2\n",
    "\n",
    "model = torch.nn.Sequential(\n",
    "          torch.nn.Linear(D_in, H),\n",
    "          torch.nn.ReLU(),\n",
    "          torch.nn.Linear(H, H),\n",
    "          torch.nn.ReLU(),\n",
    "          torch.nn.Linear(H, H),\n",
    "          torch.nn.ReLU(),\n",
    "          torch.nn.Linear(H, H),\n",
    "          torch.nn.ReLU(),\n",
    "          torch.nn.Linear(H, H),\n",
    "          torch.nn.ReLU(),\n",
    "          torch.nn.Linear(H, D_out),\n",
    "        )"
   ]
  },
  {
   "cell_type": "code",
   "execution_count": 43,
   "metadata": {},
   "outputs": [
    {
     "name": "stdout",
     "output_type": "stream",
     "text": [
      "0 0.12037284672260284\n",
      "1 0.4745102822780609\n",
      "2 0.12449498474597931\n",
      "3 0.30021047592163086\n",
      "4 0.31519466638565063\n",
      "5 0.17548403143882751\n",
      "6 0.12319707125425339\n",
      "7 0.1772550493478775\n",
      "8 0.22699449956417084\n",
      "9 0.20282958447933197\n",
      "10 0.14754989743232727\n",
      "11 0.12301799654960632\n",
      "12 0.14113709330558777\n",
      "13 0.16966451704502106\n",
      "14 0.17070871591567993\n",
      "15 0.1448630690574646\n",
      "16 0.12144896388053894\n",
      "17 0.12001422792673111\n",
      "18 0.13478924334049225\n",
      "19 0.14411453902721405\n",
      "20 0.1353822946548462\n",
      "21 0.11888439953327179\n",
      "22 0.11156218498945236\n",
      "23 0.11713771522045135\n",
      "24 0.12537014484405518\n",
      "25 0.1241891011595726\n",
      "26 0.11445864289999008\n",
      "27 0.10705383121967316\n",
      "28 0.10833767801523209\n",
      "29 0.11374012380838394\n",
      "30 0.11458516120910645\n",
      "31 0.1090211272239685\n",
      "32 0.10337010025978088\n",
      "33 0.10304351896047592\n",
      "34 0.1062377467751503\n",
      "35 0.10706699639558792\n",
      "36 0.10352300107479095\n",
      "37 0.09956783056259155\n",
      "38 0.09896817058324814\n",
      "39 0.1006557047367096\n",
      "40 0.10082729905843735\n",
      "41 0.09834457188844681\n",
      "42 0.09582074731588364\n",
      "43 0.09548234194517136\n",
      "44 0.0962240993976593\n",
      "45 0.09571930021047592\n",
      "46 0.09377466142177582\n",
      "47 0.0922706201672554\n",
      "48 0.09212243556976318\n",
      "49 0.09218011051416397\n",
      "50 0.09121448546648026\n",
      "51 0.08970845490694046\n",
      "52 0.0888831615447998\n",
      "53 0.08877138048410416\n",
      "54 0.08833783119916916\n",
      "55 0.0872504785656929\n",
      "56 0.0863233432173729\n",
      "57 0.08574235439300537\n",
      "58 0.08532562106847763\n",
      "59 0.08458542823791504\n",
      "60 0.08366479724645615\n",
      "61 0.08301527053117752\n",
      "62 0.08256572484970093\n",
      "63 0.08193739503622055\n",
      "64 0.08111613243818283\n",
      "65 0.0804053395986557\n",
      "66 0.0798848569393158\n",
      "67 0.07932265847921371\n",
      "68 0.07859624922275543\n",
      "69 0.07789456099271774\n",
      "70 0.0773291140794754\n",
      "71 0.07676045596599579\n",
      "72 0.07608937472105026\n",
      "73 0.07542242109775543\n",
      "74 0.07484254986047745\n",
      "75 0.07427161931991577\n",
      "76 0.0736347883939743\n",
      "77 0.07299306988716125\n",
      "78 0.07241177558898926\n",
      "79 0.07183244824409485\n",
      "80 0.07121571898460388\n",
      "81 0.0706089437007904\n",
      "82 0.07003214210271835\n",
      "83 0.06945174932479858\n",
      "84 0.06885193288326263\n",
      "85 0.06825976818799973\n",
      "86 0.06768837571144104\n",
      "87 0.06711651384830475\n",
      "88 0.06653185933828354\n",
      "89 0.0659634917974472\n",
      "90 0.0654008761048317\n",
      "91 0.06483399868011475\n",
      "92 0.06426849961280823\n",
      "93 0.0637132003903389\n",
      "94 0.0631633996963501\n",
      "95 0.06260915100574493\n",
      "96 0.062065910547971725\n",
      "97 0.061525627970695496\n",
      "98 0.060985174030065536\n",
      "99 0.060452625155448914\n",
      "100 0.059920698404312134\n",
      "101 0.05939579755067825\n",
      "102 0.05887428671121597\n",
      "103 0.05834771320223808\n",
      "104 0.057828228920698166\n",
      "105 0.057312797755002975\n",
      "106 0.056797727942466736\n",
      "107 0.05628987029194832\n",
      "108 0.05578432232141495\n",
      "109 0.055280450731515884\n",
      "110 0.054781224578619\n",
      "111 0.05428461357951164\n",
      "112 0.05379476398229599\n",
      "113 0.05330517143011093\n",
      "114 0.052819687873125076\n",
      "115 0.052336692810058594\n",
      "116 0.05185465142130852\n",
      "117 0.05136512219905853\n",
      "118 0.05091914162039757\n",
      "119 0.05042535066604614\n",
      "120 0.04996484890580177\n",
      "121 0.04950300604104996\n",
      "122 0.049035221338272095\n",
      "123 0.04859928414225578\n",
      "124 0.048147380352020264\n",
      "125 0.04769647493958473\n",
      "126 0.047265056520700455\n",
      "127 0.04683392122387886\n",
      "128 0.046395473182201385\n",
      "129 0.045975904911756516\n",
      "130 0.04555799439549446\n",
      "131 0.04513666778802872\n",
      "132 0.04472403973340988\n",
      "133 0.044315893203020096\n",
      "134 0.043908290565013885\n",
      "135 0.04351050779223442\n",
      "136 0.04311228543519974\n",
      "137 0.04271947965025902\n",
      "138 0.04233509674668312\n",
      "139 0.04195015877485275\n",
      "140 0.04156799986958504\n",
      "141 0.04120045527815819\n",
      "142 0.040824294090270996\n",
      "143 0.040462568402290344\n",
      "144 0.04010466858744621\n",
      "145 0.03974191099405289\n",
      "146 0.039376672357320786\n",
      "147 0.03903084248304367\n",
      "148 0.03867976740002632\n",
      "149 0.038334328681230545\n",
      "150 0.03798935189843178\n",
      "151 0.037649888545274734\n",
      "152 0.03731328621506691\n",
      "153 0.036983005702495575\n",
      "154 0.03664587438106537\n",
      "155 0.036331597715616226\n",
      "156 0.03599676862359047\n",
      "157 0.03568275645375252\n",
      "158 0.03536595031619072\n",
      "159 0.03505762666463852\n",
      "160 0.03474702313542366\n",
      "161 0.03444062918424606\n",
      "162 0.03414028137922287\n",
      "163 0.0338376946747303\n",
      "164 0.0335424467921257\n",
      "165 0.03324907273054123\n",
      "166 0.03296354040503502\n",
      "167 0.03266802430152893\n",
      "168 0.0323963388800621\n",
      "169 0.03210486099123955\n",
      "170 0.03182744234800339\n",
      "171 0.031552623957395554\n",
      "172 0.03127719834446907\n",
      "173 0.031016742810606956\n",
      "174 0.0307394340634346\n",
      "175 0.03047426976263523\n",
      "176 0.0302131325006485\n",
      "177 0.029957426711916924\n",
      "178 0.02969692088663578\n",
      "179 0.02944580465555191\n",
      "180 0.02919667214155197\n",
      "181 0.028935631737113\n",
      "182 0.028691759333014488\n",
      "183 0.028443852439522743\n",
      "184 0.02819417044520378\n",
      "185 0.02795979008078575\n",
      "186 0.027716148644685745\n",
      "187 0.02747759036719799\n",
      "188 0.027242032811045647\n",
      "189 0.02700856700539589\n",
      "190 0.02677622064948082\n",
      "191 0.026543982326984406\n",
      "192 0.026316380128264427\n",
      "193 0.026094451546669006\n",
      "194 0.02587013691663742\n",
      "195 0.025647420436143875\n",
      "196 0.025428859516978264\n",
      "197 0.025210516527295113\n",
      "198 0.024995045736432076\n",
      "199 0.0247807614505291\n",
      "200 0.02457234263420105\n",
      "201 0.02435886487364769\n",
      "202 0.024152792990207672\n",
      "203 0.023943360894918442\n",
      "204 0.02374577894806862\n",
      "205 0.023540334776043892\n",
      "206 0.023349087685346603\n",
      "207 0.023148780688643456\n",
      "208 0.022948110476136208\n",
      "209 0.02276313118636608\n",
      "210 0.02256683260202408\n",
      "211 0.022378668189048767\n",
      "212 0.022194065153598785\n",
      "213 0.022004935890436172\n",
      "214 0.021818634122610092\n",
      "215 0.02164502441883087\n",
      "216 0.021457470953464508\n",
      "217 0.021280167624354362\n",
      "218 0.021104983985424042\n",
      "219 0.02092357538640499\n",
      "220 0.020750954747200012\n",
      "221 0.020579451695084572\n",
      "222 0.020401759073138237\n",
      "223 0.02023237571120262\n",
      "224 0.020063674077391624\n",
      "225 0.019894463941454887\n",
      "226 0.019727453589439392\n",
      "227 0.019561314955353737\n",
      "228 0.019397735595703125\n",
      "229 0.019237300381064415\n",
      "230 0.019077232107520103\n",
      "231 0.018917929381132126\n",
      "232 0.01876380667090416\n",
      "233 0.018605468794703484\n",
      "234 0.018450049683451653\n",
      "235 0.01829979568719864\n",
      "236 0.018144730478525162\n",
      "237 0.017994197085499763\n",
      "238 0.017843937501311302\n",
      "239 0.017698386684060097\n",
      "240 0.017550529912114143\n",
      "241 0.01740323379635811\n",
      "242 0.017260979861021042\n",
      "243 0.017116177827119827\n",
      "244 0.016977082937955856\n",
      "245 0.016837436705827713\n",
      "246 0.016701968386769295\n",
      "247 0.016567008569836617\n",
      "248 0.01643328182399273\n",
      "249 0.01630120351910591\n",
      "250 0.01616824045777321\n",
      "251 0.016038699075579643\n",
      "252 0.015909822657704353\n",
      "253 0.015784449875354767\n",
      "254 0.015659688040614128\n",
      "255 0.015534726902842522\n",
      "256 0.015415291301906109\n",
      "257 0.015295388177037239\n",
      "258 0.015177393332123756\n",
      "259 0.015060123056173325\n",
      "260 0.014945042319595814\n",
      "261 0.014831401407718658\n",
      "262 0.014718206599354744\n",
      "263 0.014606978744268417\n",
      "264 0.014496365562081337\n",
      "265 0.014388271607458591\n",
      "266 0.014275905676186085\n",
      "267 0.014173286966979504\n",
      "268 0.014065822586417198\n",
      "269 0.013961195945739746\n",
      "270 0.013856926001608372\n",
      "271 0.01375347189605236\n",
      "272 0.013655455783009529\n",
      "273 0.013552502728998661\n",
      "274 0.013456590473651886\n",
      "275 0.01335807517170906\n",
      "276 0.013263994827866554\n",
      "277 0.013168145902454853\n",
      "278 0.013073167763650417\n",
      "279 0.012980966828763485\n",
      "280 0.012889543548226357\n",
      "281 0.012795022688806057\n",
      "282 0.012707819230854511\n",
      "283 0.012617368251085281\n",
      "284 0.01252793613821268\n",
      "285 0.012441563419997692\n",
      "286 0.012354688718914986\n",
      "287 0.012270829640328884\n",
      "288 0.01218729093670845\n",
      "289 0.012103338725864887\n",
      "290 0.012021582573652267\n",
      "291 0.011938247829675674\n",
      "292 0.011857647448778152\n",
      "293 0.011776627972722054\n",
      "294 0.01169783528894186\n",
      "295 0.011618487536907196\n",
      "296 0.011542543768882751\n",
      "297 0.01146460510790348\n",
      "298 0.011388184502720833\n",
      "299 0.01131381280720234\n"
     ]
    }
   ],
   "source": [
    "loss_fn = torch.nn.CrossEntropyLoss()\n",
    "learning_rate = 1e-5\n",
    "optimizer = torch.optim.Adam(model.parameters(), lr=learning_rate, weight_decay=0.01)\n",
    "\n",
    "accs_train = []\n",
    "accs_test = []\n",
    "\n",
    "for t in range(300):\n",
    "    y_pred = model(train_input_var)\n",
    "    loss = loss_fn(y_pred, train_target_var)\n",
    "    print(t, loss.data[0])\n",
    "    model.zero_grad()\n",
    "    loss.backward()\n",
    "    optimizer.step()\n",
    "    \n",
    "    pred_test = model(train_input_var).data\n",
    "    pred_train_classes = pred_test.max(1)[1]\n",
    "    accs_train.append(accuracy_score(pred_train_classes, train_target))\n",
    "    \n",
    "    pred_test = model(test_input_var).data\n",
    "    pred_test_classes = pred_test.max(1)[1]\n",
    "    accs_test.append(accuracy_score(pred_test_classes, test_target))"
   ]
  },
  {
   "cell_type": "code",
   "execution_count": 44,
   "metadata": {},
   "outputs": [
    {
     "data": {
      "text/plain": [
       "[<matplotlib.lines.Line2D at 0x112278400>]"
      ]
     },
     "execution_count": 44,
     "metadata": {},
     "output_type": "execute_result"
    },
    {
     "data": {
      "image/png": "[encoded data removed]",
      "text/plain": [
       "<matplotlib.figure.Figure at 0x1122789b0>"
      ]
     },
     "metadata": {},
     "output_type": "display_data"
    }
   ],
   "source": [
    "plt.plot(accs_train)\n",
    "plt.plot(accs_test)"
   ]
  },
  {
   "cell_type": "code",
   "execution_count": 45,
   "metadata": {},
   "outputs": [
    {
     "data": {
      "text/plain": [
       "0.67000000000000004"
      ]
     },
     "execution_count": 45,
     "metadata": {},
     "output_type": "execute_result"
    }
   ],
   "source": [
    "pred_test = model(test_input_var).data\n",
    "pred_test_classes = pred_test.max(1)[1]\n",
    "accuracy_score(pred_test_classes, test_target)"
   ]
  },
  {
   "cell_type": "code",
   "execution_count": 46,
   "metadata": {},
   "outputs": [
    {
     "data": {
      "text/plain": [
       "1.0"
      ]
     },
     "execution_count": 46,
     "metadata": {},
     "output_type": "execute_result"
    }
   ],
   "source": [
    "pred_train = model(train_input_var).data\n",
    "pred_train_classes = pred_train.max(1)[1]\n",
    "accuracy_score(pred_train_classes, train_target)"
   ]
  },
  {
   "cell_type": "code",
   "execution_count": null,
   "metadata": {},
   "outputs": [],
   "source": []
  }
 ],
 "metadata": {
  "kernelspec": {
   "display_name": "ml",
   "language": "python",
   "name": "ml"
  },
  "language_info": {
   "codemirror_mode": {
    "name": "ipython",
    "version": 3
   },
   "file_extension": ".py",
   "mimetype": "text/x-python",
   "name": "python",
   "nbconvert_exporter": "python",
   "pygments_lexer": "ipython3",
   "version": "3.5.4"
  }
 },
 "nbformat": 4,
 "nbformat_minor": 2
}
