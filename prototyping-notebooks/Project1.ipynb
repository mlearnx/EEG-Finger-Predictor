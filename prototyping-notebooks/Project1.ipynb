{
 "cells": [
  {
   "cell_type": "code",
   "execution_count": 2,
   "metadata": {},
   "outputs": [],
   "source": [
    "import dlc_bci as bci"
   ]
  },
  {
   "cell_type": "code",
   "execution_count": 3,
   "metadata": {},
   "outputs": [
    {
     "name": "stdout",
     "output_type": "stream",
     "text": [
      "<class 'torch.FloatTensor'> torch.Size([316, 28, 500])\n",
      "<class 'torch.LongTensor'> torch.Size([316])\n"
     ]
    }
   ],
   "source": [
    "train_input , train_target = bci.load(root = './data_bci', one_khz=True)\n",
    "\n",
    "print(str(type(train_input)), train_input.size())\n",
    "print(str(type(train_target)), train_target.size())"
   ]
  },
  {
   "cell_type": "code",
   "execution_count": 4,
   "metadata": {},
   "outputs": [
    {
     "name": "stdout",
     "output_type": "stream",
     "text": [
      "<class 'torch.FloatTensor'> torch.Size([100, 28, 500])\n",
      "<class 'torch.LongTensor'> torch.Size([100])\n"
     ]
    }
   ],
   "source": [
    "test_input, test_target = bci.load(root = './data_bci', train=False, one_khz=True)\n",
    "print(str(type(test_input)), test_input.size())\n",
    "print(str(type(test_target)), test_target.size())"
   ]
  },
  {
   "cell_type": "code",
   "execution_count": 5,
   "metadata": {},
   "outputs": [
    {
     "data": {
      "text/plain": [
       "torch.Size([28, 500])"
      ]
     },
     "execution_count": 5,
     "metadata": {},
     "output_type": "execute_result"
    }
   ],
   "source": [
    "train_input[0].shape"
   ]
  },
  {
   "cell_type": "code",
   "execution_count": 6,
   "metadata": {},
   "outputs": [],
   "source": [
    "import torch\n",
    "from torch.autograd import Variable\n",
    "from torch.nn import functional as F"
   ]
  },
  {
   "cell_type": "code",
   "execution_count": 7,
   "metadata": {},
   "outputs": [
    {
     "data": {
      "text/plain": [
       "torch.Size([316, 28, 500])"
      ]
     },
     "execution_count": 7,
     "metadata": {},
     "output_type": "execute_result"
    }
   ],
   "source": [
    "train_input.shape"
   ]
  },
  {
   "cell_type": "markdown",
   "metadata": {},
   "source": [
    "### 0. Data augmentation"
   ]
  },
  {
   "cell_type": "code",
   "execution_count": 31,
   "metadata": {},
   "outputs": [],
   "source": [
    "# using the noise addition method to augment the EEG samples"
   ]
  },
  {
   "cell_type": "code",
   "execution_count": 8,
   "metadata": {},
   "outputs": [],
   "source": [
    "noise_intensity =  [0.001, 0.01, 0.02, 0.1, 0.2, 0.5]"
   ]
  },
  {
   "cell_type": "code",
   "execution_count": 39,
   "metadata": {},
   "outputs": [],
   "source": [
    "def add_centered_gaussian_noise(mean, std):\n",
    "    _std = torch.from_numpy(np.full(mean.shape, std))\n",
    "    _std = _std.type(torch.FloatTensor)\n",
    "    return torch.normal(mean, _std)"
   ]
  },
  {
   "cell_type": "code",
   "execution_count": 60,
   "metadata": {},
   "outputs": [],
   "source": [
    "train_augmented = []\n",
    "for std in noise_intensity:\n",
    "    for i in range(train_input.shape[0]):\n",
    "        train_augmented.append(add_centered_gaussian_noise(train_input[i], std))"
   ]
  },
  {
   "cell_type": "code",
   "execution_count": 62,
   "metadata": {},
   "outputs": [
    {
     "data": {
      "text/plain": [
       "torch.Size([1, 28, 500])"
      ]
     },
     "execution_count": 62,
     "metadata": {},
     "output_type": "execute_result"
    }
   ],
   "source": [
    "train_augmented = list(map(lambda t: torch.unsqueeze(t, 0), train_augmented))\n",
    "train_augmented[0].shape"
   ]
  },
  {
   "cell_type": "code",
   "execution_count": 63,
   "metadata": {},
   "outputs": [
    {
     "name": "stdout",
     "output_type": "stream",
     "text": [
      "<class 'torch.FloatTensor'> torch.Size([1896, 28, 500])\n"
     ]
    }
   ],
   "source": [
    "train_augmented = torch.cat(train_augmented, 0)\n",
    "print(type(train_augmented), train_augmented.shape)"
   ]
  },
  {
   "cell_type": "code",
   "execution_count": 65,
   "metadata": {},
   "outputs": [
    {
     "name": "stdout",
     "output_type": "stream",
     "text": [
      "<class 'torch.FloatTensor'> torch.Size([2212, 28, 500])\n"
     ]
    }
   ],
   "source": [
    "train_augmented = torch.cat((train_augmented, train_input), 0)\n",
    "print(type(train_augmented), train_augmented.shape)"
   ]
  },
  {
   "cell_type": "markdown",
   "metadata": {},
   "source": [
    "<h3>Stardardize the data</h3>"
   ]
  },
  {
   "cell_type": "markdown",
   "metadata": {},
   "source": [
    "<h3>1. normalize data channel-wise</h3>"
   ]
  },
  {
   "cell_type": "code",
   "execution_count": 21,
   "metadata": {},
   "outputs": [],
   "source": [
    "right_indices = train_target.nonzero()"
   ]
  },
  {
   "cell_type": "code",
   "execution_count": 22,
   "metadata": {},
   "outputs": [],
   "source": [
    "left_indices = (train_target == 0).nonzero()"
   ]
  },
  {
   "cell_type": "code",
   "execution_count": 23,
   "metadata": {},
   "outputs": [],
   "source": [
    "# reshape from [157, 1] to [157]\n",
    "right_indices = right_indices.view(-1)\n",
    "left_indices = left_indices.view(-1)"
   ]
  },
  {
   "cell_type": "code",
   "execution_count": 24,
   "metadata": {},
   "outputs": [
    {
     "name": "stdout",
     "output_type": "stream",
     "text": [
      "torch.Size([157, 28, 500]) torch.Size([159, 28, 500])\n"
     ]
    }
   ],
   "source": [
    "right_data = torch.index_select(train_input, 0, right_indices)\n",
    "left_data = torch.index_select(train_input, 0, left_indices)\n",
    "\n",
    "print(right_data.shape, left_data.shape)"
   ]
  },
  {
   "cell_type": "code",
   "execution_count": 28,
   "metadata": {},
   "outputs": [
    {
     "data": {
      "text/plain": [
       "\n",
       " 135.7000  132.0000  126.9000  ...    82.7000   88.2000   92.5000\n",
       "  16.9000   13.0000    8.7000  ...   -30.1000  -20.7000  -14.6000\n",
       "  23.9000   24.3000   20.1000  ...   -15.7000   -8.7000   -1.5000\n",
       "             ...                ⋱                ...             \n",
       " -18.8000  -23.0000  -27.4000  ...   -16.5000  -16.9000  -16.0000\n",
       "   6.1000    0.5000   -5.5000  ...    14.3000   13.8000   14.6000\n",
       " -27.5000  -31.8000  -36.7000  ...   -16.6000  -17.0000  -16.1000\n",
       "[torch.FloatTensor of size 28x500]"
      ]
     },
     "execution_count": 28,
     "metadata": {},
     "output_type": "execute_result"
    }
   ],
   "source": [
    "right_data[0]"
   ]
  },
  {
   "cell_type": "code",
   "execution_count": 29,
   "metadata": {},
   "outputs": [],
   "source": [
    "rd_0 = torch.nn.functional.normalize(right_data[0], p=2, dim=0)"
   ]
  },
  {
   "cell_type": "code",
   "execution_count": 30,
   "metadata": {},
   "outputs": [
    {
     "data": {
      "text/plain": [
       "\n",
       " 0.6434  0.6293  0.6041  ...   0.4748  0.5113  0.5391\n",
       " 0.0801  0.0620  0.0414  ...  -0.1728 -0.1200 -0.0851\n",
       " 0.1133  0.1158  0.0957  ...  -0.0901 -0.0504 -0.0087\n",
       "          ...             ⋱             ...          \n",
       "-0.0891 -0.1096 -0.1304  ...  -0.0947 -0.0980 -0.0933\n",
       " 0.0289  0.0024 -0.0262  ...   0.0821  0.0800  0.0851\n",
       "-0.1304 -0.1516 -0.1747  ...  -0.0953 -0.0986 -0.0938\n",
       "[torch.FloatTensor of size 28x500]"
      ]
     },
     "execution_count": 30,
     "metadata": {},
     "output_type": "execute_result"
    }
   ],
   "source": [
    "rd_0"
   ]
  },
  {
   "cell_type": "code",
   "execution_count": 122,
   "metadata": {},
   "outputs": [],
   "source": [
    "right_data = torch.nn.functional.normalize(right_data, p=2, dim=0)\n",
    "left_data = torch.nn.functional.normalize(left_data, p=2, dim=0)"
   ]
  },
  {
   "cell_type": "code",
   "execution_count": 123,
   "metadata": {},
   "outputs": [],
   "source": [
    "class Net(torch.nn.Module):\n",
    "    def __init__(self, nb_hidden):\n",
    "        super(Net, self).__init__()\n",
    "        self.fc1 = torch.nn.Linear(28*500, nb_hidden)\n",
    "        self.fc2 = torch.nn.Linear(nb_hidden, 2)\n",
    "\n",
    "    def forward(self, x):\n",
    "        x = F.relu(self.fc1(x))\n",
    "        x = self.fc2(x)\n",
    "        return x"
   ]
  },
  {
   "cell_type": "code",
   "execution_count": 124,
   "metadata": {},
   "outputs": [],
   "source": [
    "def convert_to_one_hot_labels(input, target):\n",
    "    tmp = input.new(target.size(0), target.max() + 1).fill_(-1)\n",
    "    tmp.scatter_(1, target.view(-1, 1), 1.0)\n",
    "    return tmp"
   ]
  },
  {
   "cell_type": "code",
   "execution_count": 125,
   "metadata": {},
   "outputs": [],
   "source": [
    "train_target = convert_to_one_hot_labels(train_input, train_target)"
   ]
  },
  {
   "cell_type": "code",
   "execution_count": 126,
   "metadata": {},
   "outputs": [
    {
     "name": "stdout",
     "output_type": "stream",
     "text": [
      "torch.Size([316, 28, 500])\n"
     ]
    }
   ],
   "source": [
    "# merge back right and left data into one data-set\n",
    "train_input_norm = torch.FloatTensor(train_input.shape).fill_(0)\n",
    "print(train_input_norm.shape)"
   ]
  },
  {
   "cell_type": "code",
   "execution_count": 127,
   "metadata": {},
   "outputs": [
    {
     "data": {
      "text/plain": [
       "torch.Size([157, 28, 500])"
      ]
     },
     "execution_count": 127,
     "metadata": {},
     "output_type": "execute_result"
    }
   ],
   "source": [
    "right_data.shape"
   ]
  },
  {
   "cell_type": "code",
   "execution_count": 128,
   "metadata": {},
   "outputs": [],
   "source": [
    "for i, ind in enumerate(right_indices):\n",
    "    train_input_norm[ind] = right_data[i]\n",
    "    \n",
    "for i, ind in enumerate(left_indices):\n",
    "    train_input_norm[ind] = left_data[i]"
   ]
  },
  {
   "cell_type": "code",
   "execution_count": 106,
   "metadata": {},
   "outputs": [],
   "source": [
    "def train_model(model, train_input, train_target, mini_batch_size):\n",
    "    criterion = torch.nn.MSELoss()\n",
    "    eta = 1e-1\n",
    "\n",
    "    for e in range(0, 25):\n",
    "        sum_loss = 0\n",
    "        for b in range(0, train_input.size(0), mini_batch_size):\n",
    "            output = model(train_input.narrow(0, b, mini_batch_size))\n",
    "            loss = criterion(output, train_target.narrow(0, b, mini_batch_size))\n",
    "            model.zero_grad()\n",
    "            loss.backward()\n",
    "            sum_loss = sum_loss + loss.data[0]\n",
    "            for p in model.parameters():\n",
    "                p.data.sub_(eta * p.grad.data)\n",
    "        print(e, sum_loss)"
   ]
  },
  {
   "cell_type": "code",
   "execution_count": 107,
   "metadata": {},
   "outputs": [],
   "source": [
    "def compute_nb_errors(model, input, target, mini_batch_size):\n",
    "\n",
    "    nb_errors = 0\n",
    "\n",
    "    for b in range(0, input.size(0), mini_batch_size):\n",
    "        output = model(input.narrow(0, b, mini_batch_size))\n",
    "        _, predicted_classes = output.data.max(1)\n",
    "        for k in range(0, mini_batch_size):\n",
    "            if target.data[b + k, predicted_classes[k]] < 0:\n",
    "                nb_errors = nb_errors + 1\n",
    "\n",
    "    return nb_errors"
   ]
  },
  {
   "cell_type": "code",
   "execution_count": 136,
   "metadata": {},
   "outputs": [],
   "source": [
    "mini_batch_size = 4"
   ]
  },
  {
   "cell_type": "code",
   "execution_count": 130,
   "metadata": {},
   "outputs": [],
   "source": [
    "test_input_norm = torch.nn.functional.normalize(test_input, p=2, dim=0)\n",
    "test_target = convert_to_one_hot_labels(test_input, test_target)"
   ]
  },
  {
   "cell_type": "code",
   "execution_count": 131,
   "metadata": {},
   "outputs": [],
   "source": [
    "train_input_norm, train_target = Variable(train_input_norm.view(-1,28*500)), Variable(train_target)\n",
    "test_input_norm, test_target = Variable(test_input_norm.view(-1, 28*500)), Variable(test_target)"
   ]
  },
  {
   "cell_type": "code",
   "execution_count": 138,
   "metadata": {},
   "outputs": [
    {
     "name": "stdout",
     "output_type": "stream",
     "text": [
      "0 81.52663904428482\n",
      "1 80.71993315219879\n",
      "2 80.66652083396912\n",
      "3 80.78459882736206\n",
      "4 80.60236662626266\n",
      "5 80.72067052125931\n",
      "6 80.97601813077927\n",
      "7 80.31178167462349\n",
      "8 81.70998400449753\n",
      "9 81.9891117811203\n",
      "10 81.01279896497726\n",
      "11 79.6910138130188\n",
      "12 81.20642054080963\n",
      "13 80.0032406449318\n",
      "14 79.58367276191711\n",
      "15 80.64332780241966\n",
      "16 79.27101674675941\n",
      "17 76.59550747275352\n",
      "18 81.558689057827\n",
      "19 80.14358332753181\n",
      "20 81.8133752644062\n",
      "21 79.12926334142685\n",
      "22 77.43111741542816\n",
      "23 88.38135060667992\n",
      "24 75.57860860228539\n",
      "test error Net 51.00%% 51/100\n",
      "0 81.56964349746704\n",
      "1 80.89191764593124\n",
      "2 80.72016829252243\n",
      "3 80.80047136545181\n",
      "4 80.919488966465\n",
      "5 81.16407507658005\n",
      "6 81.3935235440731\n",
      "7 81.81209570169449\n",
      "8 79.88167759776115\n",
      "9 82.98465520143509\n",
      "10 80.47977316379547\n",
      "11 80.07123726606369\n",
      "12 80.88505584001541\n",
      "13 80.94243907928467\n",
      "14 78.51867485046387\n",
      "15 78.17379796504974\n",
      "16 80.89411211013794\n",
      "17 79.40369948744774\n",
      "18 79.01745881140232\n",
      "19 79.12541987001896\n",
      "20 75.85671111941338\n",
      "21 74.25923399627209\n",
      "22 77.72225427627563\n",
      "23 69.96103490889072\n",
      "24 70.58432824909687\n",
      "test error Net 52.00%% 52/100\n",
      "0 81.7402635216713\n",
      "1 80.71916198730469\n",
      "2 80.66868853569031\n",
      "3 80.8975402712822\n",
      "4 80.99102687835693\n",
      "5 80.79543966054916\n",
      "6 81.1422113776207\n",
      "7 80.85903742909431\n",
      "8 80.84774565696716\n",
      "9 80.3882702589035\n",
      "10 79.15307173132896\n",
      "11 80.51922681927681\n",
      "12 81.36038744449615\n",
      "13 79.3713327050209\n",
      "14 77.2230883538723\n",
      "15 79.11732715368271\n",
      "16 77.99063801765442\n",
      "17 77.8739365041256\n",
      "18 76.36960944533348\n",
      "19 78.8622969686985\n",
      "20 89.44247779250145\n",
      "21 79.22618252038956\n",
      "22 76.14774249494076\n",
      "23 84.77928358316422\n",
      "24 83.04042053222656\n",
      "test error Net 51.00%% 51/100\n",
      "0 81.8911597430706\n",
      "1 80.68175053596497\n",
      "2 80.74239581823349\n",
      "3 80.7954027056694\n",
      "4 80.7397108078003\n",
      "5 80.64064079523087\n",
      "6 80.68235546350479\n",
      "7 80.95998591184616\n",
      "8 81.46556347608566\n",
      "9 78.6447559595108\n",
      "10 82.47277995944023\n",
      "11 79.7996417582035\n",
      "12 78.43812355399132\n",
      "13 77.45644038915634\n",
      "14 79.04071488976479\n",
      "15 73.99333119392395\n",
      "16 77.2002586722374\n",
      "17 77.74654468894005\n",
      "18 74.14624443650246\n",
      "19 nan\n",
      "20 nan\n",
      "21 nan\n",
      "22 nan\n",
      "23 nan\n",
      "24 nan\n",
      "test error Net 51.00%% 51/100\n",
      "0 81.63573515415192\n",
      "1 80.68248867988586\n",
      "2 80.65506887435913\n",
      "3 80.8670340180397\n",
      "4 80.82577127218246\n",
      "5 80.85658079385757\n",
      "6 81.31648534536362\n",
      "7 81.0837824344635\n",
      "8 80.7570464015007\n",
      "9 82.26633223891258\n",
      "10 80.70996129512787\n",
      "11 79.73686990141869\n",
      "12 83.68719178438187\n",
      "13 80.57586342096329\n",
      "14 78.61149114370346\n",
      "15 78.30336457490921\n",
      "16 78.66832436621189\n",
      "17 81.18113964796066\n",
      "18 80.3532982468605\n",
      "19 73.67424128949642\n",
      "20 71.71243971586227\n",
      "21 71.87372210621834\n",
      "22 72.29412950575352\n",
      "23 75.12442326545715\n",
      "24 71.35700708627701\n",
      "test error Net 51.00%% 51/100\n",
      "0 81.47171515226364\n",
      "1 80.62778317928314\n",
      "2 80.63553810119629\n",
      "3 80.74217808246613\n",
      "4 80.89916461706161\n",
      "5 80.87765163183212\n",
      "6 80.98717164993286\n",
      "7 80.98014014959335\n",
      "8 80.88481533527374\n",
      "9 80.27968066930771\n",
      "10 79.75002819299698\n",
      "11 81.33294415473938\n",
      "12 78.14965555071831\n",
      "13 78.95953568816185\n",
      "14 77.10963252186775\n",
      "15 75.40490892529488\n",
      "16 nan\n",
      "17 nan\n",
      "18 nan\n",
      "19 nan\n",
      "20 nan\n",
      "21 nan\n",
      "22 nan\n",
      "23 nan\n",
      "24 nan\n",
      "test error Net 51.00%% 51/100\n",
      "0 81.54548966884613\n",
      "1 80.69764423370361\n",
      "2 80.62756538391113\n",
      "3 80.66832119226456\n",
      "4 80.78287887573242\n",
      "5 80.66694450378418\n",
      "6 80.74937379360199\n",
      "7 81.22797745466232\n",
      "8 80.92259493470192\n",
      "9 81.5652559697628\n",
      "10 81.30206283926964\n",
      "11 80.80599853396416\n",
      "12 80.6102465391159\n",
      "13 80.0160915851593\n",
      "14 77.72999835014343\n",
      "15 77.384387858212\n",
      "16 81.15479719638824\n",
      "17 79.79451882839203\n",
      "18 75.60966768860817\n",
      "19 75.98870858550072\n",
      "20 82.4616864323616\n",
      "21 76.95333391427994\n",
      "22 78.73531949520111\n",
      "23 91.22573190927505\n",
      "24 81.42498806118965\n",
      "test error Net 51.00%% 51/100\n",
      "0 81.38364785909653\n",
      "1 80.7874825000763\n",
      "2 80.75177937746048\n",
      "3 80.68435001373291\n",
      "4 80.92819267511368\n",
      "5 80.88951629400253\n",
      "6 81.13849115371704\n",
      "7 81.0057817697525\n",
      "8 81.04525876045227\n",
      "9 81.02840435504913\n",
      "10 80.69138884544373\n",
      "11 81.3145495057106\n",
      "12 78.85311663150787\n",
      "13 78.84515231847763\n",
      "14 78.6304829120636\n",
      "15 77.56541626155376\n",
      "16 78.46590766310692\n",
      "17 80.59297448396683\n",
      "18 81.07270738482475\n",
      "19 108.73585557937622\n",
      "20 nan\n",
      "21 nan\n",
      "22 nan\n",
      "23 nan\n",
      "24 nan\n",
      "test error Net 51.00%% 51/100\n",
      "0 81.47387593984604\n",
      "1 80.64987534284592\n",
      "2 80.65748471021652\n",
      "3 80.88108134269714\n",
      "4 80.78799360990524\n",
      "5 80.60725170373917\n",
      "6 81.76782578229904\n",
      "7 81.17270135879517\n",
      "8 80.43181177973747\n",
      "9 81.50190377235413\n",
      "10 81.04449015855789\n",
      "11 80.24656239151955\n",
      "12 80.37080511450768\n",
      "13 80.2507026642561\n",
      "14 77.90983319282532\n",
      "15 78.02551472187042\n",
      "16 76.22674560546875\n",
      "17 81.03434044122696\n",
      "18 81.5830629169941\n",
      "19 81.0653709769249\n",
      "20 82.99875098466873\n",
      "21 76.59257340431213\n",
      "22 79.60617649555206\n",
      "23 74.2693255096674\n",
      "24 80.01981943845749\n",
      "test error Net 51.00%% 51/100\n",
      "0 81.54456180334091\n",
      "1 80.65018910169601\n",
      "2 80.65136182308197\n",
      "3 80.7690640091896\n",
      "4 80.75692117214203\n",
      "5 80.7356847524643\n",
      "6 80.82104617357254\n",
      "7 80.8213908970356\n",
      "8 81.2596076130867\n",
      "9 80.19329097867012\n",
      "10 79.33232715725899\n",
      "11 80.90058428049088\n",
      "12 80.41344752907753\n",
      "13 76.9505967721343\n",
      "14 76.03698126971722\n",
      "15 84.16934259980917\n",
      "16 nan\n",
      "17 nan\n",
      "18 nan\n",
      "19 nan\n",
      "20 nan\n",
      "21 nan\n",
      "22 nan\n",
      "23 nan\n",
      "24 nan\n",
      "test error Net 51.00%% 51/100\n"
     ]
    }
   ],
   "source": [
    "for k in range(0, 10):\n",
    "    model = Net(200)\n",
    "    train_model(model, train_input_norm, train_target, mini_batch_size) \n",
    "    nb_test_errors = compute_nb_errors(model, test_input_norm, test_target, mini_batch_size)\n",
    "    print('test error Net {:0.2f}%% {:d}/{:d}'.format((100 * nb_test_errors) / test_input.size(0),\n",
    "                                                       nb_test_errors, test_input.size(0)))"
   ]
  }
 ],
 "metadata": {
  "kernelspec": {
   "display_name": "Python 3",
   "language": "python",
   "name": "python3"
  }
 },
 "nbformat": 4,
 "nbformat_minor": 2
}
