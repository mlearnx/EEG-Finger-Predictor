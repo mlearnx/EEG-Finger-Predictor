{
 "cells": [
  {
   "cell_type": "markdown",
   "metadata": {},
   "source": [
    "# LSTM"
   ]
  },
  {
   "cell_type": "code",
   "execution_count": 1,
   "metadata": {},
   "outputs": [],
   "source": [
    "import dlc_bci as bci\n",
    "import torch\n",
    "from torch.autograd import Variable\n",
    "from torch.nn import functional as F\n",
    "from torch.utils.data import TensorDataset, DataLoader\n",
    "from sklearn.metrics import accuracy_score\n",
    "import time\n",
    "import copy\n",
    "import numpy as np\n",
    "import matplotlib.pyplot as plt\n",
    "%matplotlib inline\n",
    "\n",
    "plt.rcParams['font.size'] = 28\n",
    "plt.style.use('ggplot')\n",
    "plt.rcParams[\"axes.grid\"] = False\n",
    "c = plt.rcParams['axes.prop_cycle'].by_key()['color']\n",
    "plt.rcParams['figure.figsize'] = 8, 4"
   ]
  },
  {
   "cell_type": "code",
   "execution_count": 2,
   "metadata": {},
   "outputs": [],
   "source": [
    "def plot_learning_curves(train_losses, val_losses, train_accs, val_accs):\n",
    "    plt.figure(figsize=(8,4))\n",
    "    plt.plot(train_losses, '--', c=c[0], label='Train loss')\n",
    "    plt.plot(val_losses, c=c[0], label='Val loss')\n",
    "    plt.legend(loc='best')\n",
    "    \n",
    "    plt.figure(figsize=(8,4))\n",
    "    plt.plot(train_accs, '--', c=c[1], label='Train acc')\n",
    "    plt.plot(val_accs, c=c[1], label='Val acc')\n",
    "    plt.legend(loc='best')"
   ]
  },
  {
   "cell_type": "code",
   "execution_count": 3,
   "metadata": {},
   "outputs": [],
   "source": [
    "def plot_CV_learning_curves(K_train_losses, K_val_losses, K_train_accs, K_val_accs):\n",
    "    plt.figure(figsize=(8,4))\n",
    "    for train_losses in K_train_losses:\n",
    "        plt.plot(train_losses, '--', c=c[0], label='Train loss CV', alpha=0.4)\n",
    "    for val_losses in K_val_losses:\n",
    "        plt.plot(val_losses, c=c[0], label='Val loss CV', alpha=0.4)\n",
    "    mean_train_losses = np.array(K_train_losses).mean(axis=0)\n",
    "    mean_val_losses = np.array(K_val_losses).mean(axis=0)\n",
    "    plt.plot(mean_train_losses, '--', c=c[0], label='Train loss mean')\n",
    "    plt.plot(mean_val_losses, c=c[0], label='Val loss mean')\n",
    "    plt.legend(loc='best')\n",
    "    \n",
    "    plt.figure(figsize=(8,4))\n",
    "    for train_accs in K_train_accs:\n",
    "        plt.plot(train_accs, '--', c=c[1], label='Train acc CV', alpha=0.4)\n",
    "    for val_accs in K_val_accs:\n",
    "        plt.plot(val_accs, c=c[1], label='Val acc CV', alpha=0.4)\n",
    "    mean_train_accs = np.array(K_train_accs).mean(axis=0)\n",
    "    mean_val_accs = np.array(K_val_accs).mean(axis=0)\n",
    "    plt.plot(mean_train_accs, '--', c=c[1], label='Train acc mean')\n",
    "    plt.plot(mean_val_accs, c=c[1], label='Val acc mean')\n",
    "    plt.legend(loc='best')"
   ]
  },
  {
   "cell_type": "markdown",
   "metadata": {},
   "source": [
    "## 1 Loading and transforming the data"
   ]
  },
  {
   "cell_type": "code",
   "execution_count": 4,
   "metadata": {},
   "outputs": [
    {
     "name": "stdout",
     "output_type": "stream",
     "text": [
      "<class 'torch.FloatTensor'> torch.Size([316, 28, 500])\n",
      "<class 'torch.LongTensor'> torch.Size([316])\n"
     ]
    }
   ],
   "source": [
    "train_input, train_target = bci.load(root = './data_bci', train=True, one_khz=True)\n",
    "print(str(type(train_input)), train_input.size())\n",
    "print(str(type(train_target)), train_target.size())"
   ]
  },
  {
   "cell_type": "code",
   "execution_count": 5,
   "metadata": {},
   "outputs": [
    {
     "name": "stdout",
     "output_type": "stream",
     "text": [
      "<class 'torch.FloatTensor'> torch.Size([100, 28, 500])\n",
      "<class 'torch.LongTensor'> torch.Size([100])\n"
     ]
    }
   ],
   "source": [
    "test_input, test_target = bci.load(root = './data_bci', train=False, one_khz=True)\n",
    "print(str(type(test_input)), test_input.size())\n",
    "print(str(type(test_target)), test_target.size())"
   ]
  },
  {
   "cell_type": "code",
   "execution_count": 6,
   "metadata": {},
   "outputs": [],
   "source": [
    "train_input = train_input.permute(0,2,1)\n",
    "test_input = test_input.permute(0,2,1)"
   ]
  },
  {
   "cell_type": "markdown",
   "metadata": {},
   "source": [
    "## 1.1 Standardizing the data"
   ]
  },
  {
   "cell_type": "code",
   "execution_count": 7,
   "metadata": {},
   "outputs": [],
   "source": [
    "def standardize_data(input_data, mean=None, std_dev=None):\n",
    "    if mean is None or std_dev is None:\n",
    "        mean = input_data.contiguous().view(-1, 28).mean(dim=0)\n",
    "        std_dev = input_data.contiguous().view(-1, 28).std(dim=0)\n",
    "    return (input_data - mean) / std_dev, mean, std_dev"
   ]
  },
  {
   "cell_type": "code",
   "execution_count": 8,
   "metadata": {},
   "outputs": [],
   "source": [
    "train_input, mean, std_dev = standardize_data(train_input)\n",
    "test_input, _, _ = standardize_data(test_input, mean, std_dev)"
   ]
  },
  {
   "cell_type": "markdown",
   "metadata": {},
   "source": [
    "## 1.2 Data augmentation"
   ]
  },
  {
   "cell_type": "code",
   "execution_count": 9,
   "metadata": {},
   "outputs": [],
   "source": [
    "def augment_dataset(train_input, train_target, std_dev, multiple):\n",
    "    new_train_input = train_input.clone()\n",
    "    new_train_target = train_target.clone()\n",
    "    for i in range(multiple-1):\n",
    "        augmented_input = train_input + torch.zeros(train_input.shape).normal_(0, std_dev)\n",
    "        new_train_input = torch.cat((new_train_input, augmented_input))\n",
    "        new_train_target = torch.cat((new_train_target, train_target))\n",
    "    return new_train_input, new_train_target"
   ]
  },
  {
   "cell_type": "code",
   "execution_count": 10,
   "metadata": {},
   "outputs": [],
   "source": [
    "# Run only if not doing cross validation (it will augment the dataset itself)\n",
    "train_input, train_target = augment_dataset(train_input, train_target, 0.1, 5)"
   ]
  },
  {
   "cell_type": "markdown",
   "metadata": {},
   "source": [
    "## 1.3 Creating the Dataset / Dataloader"
   ]
  },
  {
   "cell_type": "code",
   "execution_count": 11,
   "metadata": {},
   "outputs": [
    {
     "data": {
      "text/plain": [
       "(torch.Size([1580, 500, 28]), torch.Size([100, 500, 28]))"
      ]
     },
     "execution_count": 11,
     "metadata": {},
     "output_type": "execute_result"
    }
   ],
   "source": [
    "train_input.shape, test_input.shape"
   ]
  },
  {
   "cell_type": "code",
   "execution_count": 12,
   "metadata": {},
   "outputs": [],
   "source": [
    "# Run only if not doing cross validation\n",
    "train_dataset = TensorDataset(train_input, train_target)\n",
    "test_dataset = TensorDataset(test_input, test_target)"
   ]
  },
  {
   "cell_type": "code",
   "execution_count": 14,
   "metadata": {},
   "outputs": [],
   "source": [
    "# Run only if not doing cross validation\n",
    "batch_size = 64\n",
    "trainloader = DataLoader(train_dataset, batch_size=batch_size, shuffle=True, num_workers=8)\n",
    "testloader = DataLoader(test_dataset, batch_size=batch_size, shuffle=False, num_workers=8)\n",
    "dset_loaders = {'train': trainloader, 'val': testloader}\n",
    "dset_sizes = {'train': len(train_input), 'val': len(test_input)}"
   ]
  },
  {
   "cell_type": "markdown",
   "metadata": {},
   "source": [
    "## 2 Defining the model architecture"
   ]
  },
  {
   "cell_type": "code",
   "execution_count": 30,
   "metadata": {},
   "outputs": [],
   "source": [
    "#seq = train_input.shape[1] # 500\n",
    "#input_size = train_input.shape[2] #28\n",
    "\n",
    "class Net(torch.nn.Module):\n",
    "    def __init__(self, input_size, batch_size, hidden_size=256, num_layers=1, dropout=0.2):\n",
    "        super(Net, self).__init__()\n",
    "        self.hidden_size = hidden_size\n",
    "        self.num_layers = num_layers\n",
    "        #self.batch_size = batch_size\n",
    "        # LSTM input size is: (batch, seq, feature)\n",
    "        # LSTM output size is: (batch, seq, hidden_size)\n",
    "        self.lstm = torch.nn.LSTM(input_size=input_size,\n",
    "                                  hidden_size=hidden_size,\n",
    "                                  num_layers=num_layers,\n",
    "                                  batch_first=True,\n",
    "                                  dropout=dropout)\n",
    "        self.dropout = torch.nn.Dropout(dropout)\n",
    "        self.fc = torch.nn.Linear(hidden_size, 2)\n",
    "\n",
    "    def forward(self, x, hidden):\n",
    "        x = self.lstm(x, hidden)[0][:,-1,:] # take only last output of LSTM (many-to-one RNN)\n",
    "        x = x.view(x.shape[0], -1) # flatten to (batch, hidden_size)\n",
    "        x = self.dropout(x)\n",
    "        x = self.fc(x)\n",
    "        return x\n",
    "    \n",
    "    def init_hidden(self, batch_size):\n",
    "        # Initializing the hidden layer\n",
    "        # The axes semantics are (num_layers, minibatch_size, hidden_dim)\n",
    "        h_0 =torch.zeros(self.num_layers, batch_size, self.hidden_size)\n",
    "        c_0 = torch.zeros(self.num_layers, batch_size, self.hidden_size)\n",
    "        if torch.cuda.is_available():\n",
    "            return (Variable(h_0.cuda()), Variable(c_0.cuda()))\n",
    "        else:\n",
    "            return (Variable(h_0), Variable(c_0))"
   ]
  },
  {
   "cell_type": "markdown",
   "metadata": {},
   "source": [
    "## 3 Training models"
   ]
  },
  {
   "cell_type": "code",
   "execution_count": 31,
   "metadata": {},
   "outputs": [],
   "source": [
    "def train_model(model, dset_loaders, dset_sizes, criterion, optimizer,\\\n",
    "                lr_scheduler=None, num_epochs=25, verbose=2):\n",
    "    since = time.time()\n",
    "\n",
    "    best_model = model\n",
    "    best_acc = 0.0\n",
    "    \n",
    "    train_losses = []\n",
    "    val_losses = []\n",
    "    train_accs = []\n",
    "    val_accs = []\n",
    "\n",
    "    for epoch in range(num_epochs):\n",
    "        if verbose > 1:\n",
    "            print('Epoch {}/{}'.format(epoch, num_epochs - 1))\n",
    "            print('-' * 10)\n",
    "\n",
    "        # Each epoch has a training and validation phase\n",
    "        for phase in ['train', 'val']:\n",
    "            if phase == 'train':\n",
    "                if lr_scheduler:\n",
    "                    optimizer = lr_scheduler(optimizer, epoch)\n",
    "                model.train(True)  # Set model to training mode\n",
    "            else:\n",
    "                model.train(False)  # Set model to evaluate mode\n",
    "\n",
    "            running_loss = 0.0\n",
    "            running_corrects = 0\n",
    "\n",
    "            # Iterate over data.\n",
    "            for data in dset_loaders[phase]:\n",
    "                # get the inputs\n",
    "                inputs, labels = data\n",
    "\n",
    "                # wrap them in Variable\n",
    "                if torch.cuda.is_available():\n",
    "                    inputs, labels = Variable(inputs.cuda()), \\\n",
    "                        Variable(labels.cuda())\n",
    "                else:\n",
    "                    inputs, labels = Variable(inputs), Variable(labels)\n",
    "\n",
    "                # zero the parameter gradients\n",
    "                optimizer.zero_grad()\n",
    "                \n",
    "                # zero the hidden state\n",
    "                hidden = model.init_hidden(len(inputs))\n",
    "\n",
    "                # forward\n",
    "                outputs = model(inputs, hidden)\n",
    "                #_, preds = torch.max(outputs.data, 1)\n",
    "                preds = outputs\n",
    "                loss = criterion(outputs, labels)\n",
    "\n",
    "                # backward + optimize only if in training phase\n",
    "                if phase == 'train':\n",
    "                    loss.backward()\n",
    "                    optimizer.step()\n",
    "\n",
    "                # statistics\n",
    "                running_loss += loss.data[0]\n",
    "                preds_classes = preds.data.max(1)[1]\n",
    "                running_corrects += torch.sum(preds_classes == labels.data)\n",
    "\n",
    "            epoch_loss = running_loss / dset_sizes[phase]\n",
    "            epoch_acc = running_corrects / dset_sizes[phase]\n",
    "            \n",
    "            if phase == 'train':\n",
    "                train_losses.append(epoch_loss)\n",
    "                train_accs.append(epoch_acc)\n",
    "            else:\n",
    "                val_losses.append(epoch_loss)\n",
    "                val_accs.append(epoch_acc)\n",
    "\n",
    "            if verbose > 1:\n",
    "                print('{} Loss: {:.4f} Acc: {:.4f}'.format(\n",
    "                    phase, epoch_loss, epoch_acc))\n",
    "\n",
    "            # deep copy the model\n",
    "            if phase == 'val' and epoch_acc > best_acc:\n",
    "                best_acc = epoch_acc\n",
    "                best_model = copy.deepcopy(model)\n",
    "\n",
    "        if verbose > 1: \n",
    "            print()\n",
    "\n",
    "    time_elapsed = time.time() - since\n",
    "    if verbose > 0:\n",
    "        print('Training complete in {:.0f}m {:.0f}s'.format(\n",
    "            time_elapsed // 60, time_elapsed % 60))\n",
    "        print('Best val Acc: {:4f}'.format(best_acc))\n",
    "    return best_model, train_losses, val_losses, train_accs, val_accs"
   ]
  },
  {
   "cell_type": "code",
   "execution_count": 32,
   "metadata": {},
   "outputs": [],
   "source": [
    "def k_fold_cv(model, train_input, train_target, criterion, optimizer, lr_scheduler=None,\\\n",
    "              num_epochs=25, batch_size=64, K=5, verbose=2, augment_multiplier=0, std_dev=0.1):\n",
    "    n_train = len(train_input)\n",
    "    indices = list(range(n_train))\n",
    "    n_validation = n_train // K\n",
    "    \n",
    "    np.random.shuffle(indices)\n",
    "        \n",
    "    avg_train_loss, avg_val_loss = 0, 0\n",
    "    avg_train_acc, avg_val_acc = 0, 0\n",
    "    \n",
    "    K_train_losses = []\n",
    "    K_val_losses = []\n",
    "    K_train_accs = []\n",
    "    K_val_accs = []\n",
    "        \n",
    "    for k in range(K):\n",
    "        indices_rolled = np.roll(indices, k * n_train // K)\n",
    "        train_idx, val_idx = indices_rolled[n_validation:], indices_rolled[:n_validation]\n",
    "        \n",
    "        train_inp = train_input[train_idx,]\n",
    "        train_tar = train_target[train_idx,]\n",
    "        val_inp = train_input[val_idx,]\n",
    "        val_tar = train_target[val_idx,]\n",
    "        \n",
    "        train_inp, train_tar = augment_dataset(train_inp, train_tar, std_dev, augment_multiplier)\n",
    "        \n",
    "        train_dataset = TensorDataset(train_inp, train_tar)\n",
    "        val_dataset = TensorDataset(val_inp, val_tar)\n",
    "        \n",
    "        train_loader = DataLoader(train_dataset, batch_size=batch_size, shuffle=True, num_workers=8)\n",
    "        val_loader = DataLoader(val_dataset, batch_size=batch_size, shuffle=True, num_workers=8)\n",
    "        dset_loaders = {'train': train_loader, 'val': val_loader}\n",
    "        dset_sizes = {'train': len(train_inp), 'val': len(val_inp)}\n",
    "        \n",
    "        if verbose:\n",
    "            print('k={}:'.format(k))\n",
    "        _, train_losses, val_losses, train_accs, val_accs = train_model(copy.deepcopy(model), dset_loaders, \n",
    "                                                                        dset_sizes, criterion, optimizer, \n",
    "                                                                        num_epochs=num_epochs, verbose=verbose)\n",
    "        \n",
    "        avg_train_loss += min(train_losses)\n",
    "        avg_val_loss += min(val_losses)\n",
    "        avg_train_acc += max(train_accs)\n",
    "        avg_val_acc += max(val_accs)\n",
    "        \n",
    "        K_train_losses.append(train_losses)\n",
    "        K_val_losses.append(val_losses)\n",
    "        K_train_accs.append(train_accs)\n",
    "        K_val_accs.append(val_accs)\n",
    "        \n",
    "    avg_train_loss /= K\n",
    "    avg_val_loss /= K\n",
    "    avg_train_acc /= K\n",
    "    avg_val_acc /= K\n",
    "        \n",
    "    if verbose:\n",
    "        print('\\nAvg best train loss: {:.6f}, avg best val loss: {:.6f}'.format(avg_train_loss, avg_val_loss))\n",
    "        print('Avg best train acc: {:.6f}%, avg best val acc: {:.6f}%'.format(avg_train_acc*100, avg_val_acc*100))\n",
    "        \n",
    "    return K_train_losses, K_val_losses, K_train_accs, K_val_accs"
   ]
  },
  {
   "cell_type": "markdown",
   "metadata": {},
   "source": [
    "### 3.1 One layer, 256 hidden units"
   ]
  },
  {
   "cell_type": "code",
   "execution_count": 40,
   "metadata": {},
   "outputs": [],
   "source": [
    "batch_size=64\n",
    "model = Net(train_input.shape[2], batch_size=batch_size, hidden_size=128, num_layers=1, dropout=0.1)\n",
    "criterion = torch.nn.CrossEntropyLoss()\n",
    "learning_rate = 1e-4\n",
    "weight_decay = 1e-3 # L2 regularizer parameter\n",
    "optimizer = torch.optim.Adam(model.parameters(), lr=learning_rate, weight_decay=weight_decay)\n",
    "lr_scheduler = torch.optim.lr_scheduler.ReduceLROnPlateau(optimizer, 'min')\n",
    "\n",
    "if torch.cuda.is_available():\n",
    "    model.cuda()\n",
    "    criterion.cuda()"
   ]
  },
  {
   "cell_type": "code",
   "execution_count": null,
   "metadata": {},
   "outputs": [],
   "source": [
    "K_train_losses, K_val_losses, K_train_accs, K_val_accs = k_fold_cv(model, train_input, train_target, \n",
    "                                                                   criterion, optimizer, num_epochs=5, \n",
    "                                                                   batch_size=batch_size, K=5, verbose=2, \n",
    "                                                                   augment_multiplier=5, std_dev=0.1)"
   ]
  },
  {
   "cell_type": "code",
   "execution_count": null,
   "metadata": {},
   "outputs": [],
   "source": [
    "plot_CV_learning_curves(K_train_losses, K_val_losses, K_train_accs, K_val_accs)"
   ]
  },
  {
   "cell_type": "code",
   "execution_count": 41,
   "metadata": {
    "scrolled": true
   },
   "outputs": [
    {
     "name": "stdout",
     "output_type": "stream",
     "text": [
      "Epoch 0/49\n",
      "----------\n",
      "train Loss: 0.0108 Acc: 0.5582\n",
      "val Loss: 0.0140 Acc: 0.5100\n",
      "\n",
      "Epoch 1/49\n",
      "----------\n",
      "train Loss: 0.0107 Acc: 0.5741\n",
      "val Loss: 0.0139 Acc: 0.5200\n",
      "\n",
      "Epoch 2/49\n",
      "----------\n",
      "train Loss: 0.0107 Acc: 0.5715\n",
      "val Loss: 0.0139 Acc: 0.5400\n",
      "\n",
      "Epoch 3/49\n",
      "----------\n",
      "train Loss: 0.0106 Acc: 0.5975\n",
      "val Loss: 0.0139 Acc: 0.5500\n",
      "\n",
      "Epoch 4/49\n",
      "----------\n",
      "train Loss: 0.0105 Acc: 0.6184\n",
      "val Loss: 0.0139 Acc: 0.5600\n",
      "\n",
      "Epoch 5/49\n",
      "----------\n",
      "train Loss: 0.0104 Acc: 0.6462\n",
      "val Loss: 0.0137 Acc: 0.5700\n",
      "\n",
      "Epoch 6/49\n",
      "----------\n",
      "train Loss: 0.0102 Acc: 0.6810\n",
      "val Loss: 0.0135 Acc: 0.5900\n",
      "\n",
      "Epoch 7/49\n",
      "----------\n",
      "train Loss: 0.0100 Acc: 0.7000\n",
      "val Loss: 0.0133 Acc: 0.6200\n",
      "\n",
      "Epoch 8/49\n",
      "----------\n",
      "train Loss: 0.0095 Acc: 0.6956\n",
      "val Loss: 0.0127 Acc: 0.7400\n",
      "\n",
      "Epoch 9/49\n",
      "----------\n",
      "train Loss: 0.0086 Acc: 0.7291\n",
      "val Loss: 0.0121 Acc: 0.7600\n",
      "\n",
      "Epoch 10/49\n",
      "----------\n",
      "train Loss: 0.0085 Acc: 0.7405\n",
      "val Loss: 0.0130 Acc: 0.6900\n",
      "\n",
      "Epoch 11/49\n",
      "----------\n",
      "train Loss: 0.0082 Acc: 0.7430\n",
      "val Loss: 0.0116 Acc: 0.7600\n",
      "\n",
      "Epoch 12/49\n",
      "----------\n",
      "train Loss: 0.0076 Acc: 0.7930\n",
      "val Loss: 0.0114 Acc: 0.7600\n",
      "\n",
      "Epoch 13/49\n",
      "----------\n",
      "train Loss: 0.0074 Acc: 0.7867\n",
      "val Loss: 0.0116 Acc: 0.7700\n",
      "\n",
      "Epoch 14/49\n",
      "----------\n",
      "train Loss: 0.0071 Acc: 0.8101\n",
      "val Loss: 0.0120 Acc: 0.7500\n",
      "\n",
      "Epoch 15/49\n",
      "----------\n",
      "train Loss: 0.0069 Acc: 0.8089\n",
      "val Loss: 0.0123 Acc: 0.7600\n",
      "\n",
      "Epoch 16/49\n",
      "----------\n",
      "train Loss: 0.0071 Acc: 0.7981\n",
      "val Loss: 0.0129 Acc: 0.7100\n",
      "\n",
      "Epoch 17/49\n",
      "----------\n",
      "train Loss: 0.0070 Acc: 0.7975\n",
      "val Loss: 0.0117 Acc: 0.7800\n",
      "\n",
      "Epoch 18/49\n",
      "----------\n",
      "train Loss: 0.0066 Acc: 0.8196\n",
      "val Loss: 0.0127 Acc: 0.7200\n",
      "\n",
      "Epoch 19/49\n",
      "----------\n",
      "train Loss: 0.0077 Acc: 0.7715\n",
      "val Loss: 0.0124 Acc: 0.6900\n",
      "\n",
      "Epoch 20/49\n",
      "----------\n",
      "train Loss: 0.0079 Acc: 0.7557\n",
      "val Loss: 0.0121 Acc: 0.7700\n",
      "\n",
      "Epoch 21/49\n",
      "----------\n",
      "train Loss: 0.0074 Acc: 0.7696\n",
      "val Loss: 0.0121 Acc: 0.7400\n",
      "\n",
      "Epoch 22/49\n",
      "----------\n",
      "train Loss: 0.0073 Acc: 0.7968\n",
      "val Loss: 0.0116 Acc: 0.7200\n",
      "\n",
      "Epoch 23/49\n",
      "----------\n",
      "train Loss: 0.0072 Acc: 0.8025\n",
      "val Loss: 0.0118 Acc: 0.7700\n",
      "\n",
      "Epoch 24/49\n",
      "----------\n",
      "train Loss: 0.0068 Acc: 0.8190\n",
      "val Loss: 0.0119 Acc: 0.7700\n",
      "\n",
      "Epoch 25/49\n",
      "----------\n",
      "train Loss: 0.0067 Acc: 0.8234\n",
      "val Loss: 0.0118 Acc: 0.7500\n",
      "\n",
      "Epoch 26/49\n",
      "----------\n",
      "train Loss: 0.0065 Acc: 0.8297\n",
      "val Loss: 0.0119 Acc: 0.7400\n",
      "\n",
      "Epoch 27/49\n",
      "----------\n",
      "train Loss: 0.0063 Acc: 0.8354\n",
      "val Loss: 0.0120 Acc: 0.7600\n",
      "\n",
      "Epoch 28/49\n",
      "----------\n",
      "train Loss: 0.0062 Acc: 0.8354\n",
      "val Loss: 0.0123 Acc: 0.7500\n",
      "\n",
      "Epoch 29/49\n",
      "----------\n",
      "train Loss: 0.0061 Acc: 0.8310\n",
      "val Loss: 0.0122 Acc: 0.7500\n",
      "\n",
      "Epoch 30/49\n",
      "----------\n",
      "train Loss: 0.0061 Acc: 0.8348\n",
      "val Loss: 0.0129 Acc: 0.7100\n",
      "\n",
      "Epoch 31/49\n",
      "----------\n",
      "train Loss: 0.0060 Acc: 0.8399\n",
      "val Loss: 0.0129 Acc: 0.7200\n",
      "\n",
      "Epoch 32/49\n",
      "----------\n",
      "train Loss: 0.0059 Acc: 0.8430\n",
      "val Loss: 0.0129 Acc: 0.7400\n",
      "\n",
      "Epoch 33/49\n",
      "----------\n",
      "train Loss: 0.0058 Acc: 0.8506\n",
      "val Loss: 0.0132 Acc: 0.7300\n",
      "\n",
      "Epoch 34/49\n",
      "----------\n",
      "train Loss: 0.0056 Acc: 0.8538\n",
      "val Loss: 0.0135 Acc: 0.7300\n",
      "\n",
      "Epoch 35/49\n",
      "----------\n",
      "train Loss: 0.0058 Acc: 0.8601\n",
      "val Loss: 0.0147 Acc: 0.7000\n",
      "\n",
      "Epoch 36/49\n",
      "----------\n",
      "train Loss: 0.0059 Acc: 0.8494\n",
      "val Loss: 0.0128 Acc: 0.7100\n",
      "\n",
      "Epoch 37/49\n",
      "----------\n",
      "train Loss: 0.0055 Acc: 0.8557\n",
      "val Loss: 0.0147 Acc: 0.7100\n",
      "\n",
      "Epoch 38/49\n",
      "----------\n",
      "train Loss: 0.0054 Acc: 0.8728\n",
      "val Loss: 0.0146 Acc: 0.7100\n",
      "\n",
      "Epoch 39/49\n",
      "----------\n",
      "train Loss: 0.0057 Acc: 0.8627\n",
      "val Loss: 0.0145 Acc: 0.7000\n",
      "\n",
      "Epoch 40/49\n",
      "----------\n",
      "train Loss: 0.0056 Acc: 0.8582\n",
      "val Loss: 0.0135 Acc: 0.7300\n",
      "\n",
      "Epoch 41/49\n",
      "----------\n",
      "train Loss: 0.0053 Acc: 0.8728\n",
      "val Loss: 0.0141 Acc: 0.7200\n",
      "\n",
      "Epoch 42/49\n",
      "----------\n",
      "train Loss: 0.0051 Acc: 0.8804\n",
      "val Loss: 0.0143 Acc: 0.7300\n",
      "\n",
      "Epoch 43/49\n",
      "----------\n",
      "train Loss: 0.0054 Acc: 0.8766\n",
      "val Loss: 0.0145 Acc: 0.7200\n",
      "\n",
      "Epoch 44/49\n",
      "----------\n",
      "train Loss: 0.0049 Acc: 0.8930\n",
      "val Loss: 0.0131 Acc: 0.7300\n",
      "\n",
      "Epoch 45/49\n",
      "----------\n",
      "train Loss: 0.0051 Acc: 0.8785\n",
      "val Loss: 0.0147 Acc: 0.7400\n",
      "\n",
      "Epoch 46/49\n",
      "----------\n",
      "train Loss: 0.0048 Acc: 0.8924\n",
      "val Loss: 0.0146 Acc: 0.7500\n",
      "\n",
      "Epoch 47/49\n",
      "----------\n",
      "train Loss: 0.0047 Acc: 0.8981\n",
      "val Loss: 0.0144 Acc: 0.7400\n",
      "\n",
      "Epoch 48/49\n",
      "----------\n",
      "train Loss: 0.0052 Acc: 0.8728\n",
      "val Loss: 0.0146 Acc: 0.6800\n",
      "\n",
      "Epoch 49/49\n",
      "----------\n",
      "train Loss: 0.0052 Acc: 0.8627\n",
      "val Loss: 0.0140 Acc: 0.7200\n",
      "\n",
      "Training complete in 1m 30s\n",
      "Best val Acc: 0.780000\n"
     ]
    }
   ],
   "source": [
    "best_model, train_losses, val_losses, train_accs, val_accs = train_model(model, dset_loaders, dset_sizes, \n",
    "                                                                         criterion, optimizer, num_epochs=50)"
   ]
  },
  {
   "cell_type": "code",
   "execution_count": 42,
   "metadata": {},
   "outputs": [
    {
     "data": {
      "image/png": "[encoded data removed]",
      "text/plain": [
       "<matplotlib.figure.Figure at 0x7f6d70423780>"
      ]
     },
     "metadata": {},
     "output_type": "display_data"
    },
    {
     "data": {
      "image/png": "[encoded data removed]",
      "text/plain": [
       "<matplotlib.figure.Figure at 0x7f6d703b0710>"
      ]
     },
     "metadata": {},
     "output_type": "display_data"
    }
   ],
   "source": [
    "plot_learning_curves(train_losses, val_losses, train_accs, val_accs)"
   ]
  },
  {
   "cell_type": "markdown",
   "metadata": {},
   "source": [
    "### Etc"
   ]
  },
  {
   "cell_type": "code",
   "execution_count": null,
   "metadata": {},
   "outputs": [],
   "source": [
    "train_input_var = Variable(train_input.cuda())\n",
    "train_target_var = Variable(train_target.cuda(), requires_grad=False)\n",
    "\n",
    "test_input_var = Variable(test_input.cuda())\n",
    "test_target_var = Variable(test_target.cuda(), requires_grad=False)"
   ]
  },
  {
   "cell_type": "code",
   "execution_count": null,
   "metadata": {},
   "outputs": [],
   "source": [
    "pred_test = best_model(test_input_var).data\n",
    "pred_test_classes = pred_test.max(1)[1]\n",
    "accuracy_score(pred_test_classes, test_target)"
   ]
  },
  {
   "cell_type": "code",
   "execution_count": null,
   "metadata": {},
   "outputs": [],
   "source": [
    "pred_train = best_model(train_input_var).data\n",
    "pred_train_classes = pred_train.max(1)[1]\n",
    "accuracy_score(pred_train_classes, train_target)"
   ]
  },
  {
   "cell_type": "code",
   "execution_count": null,
   "metadata": {},
   "outputs": [],
   "source": []
  },
  {
   "cell_type": "code",
   "execution_count": null,
   "metadata": {},
   "outputs": [],
   "source": []
  },
  {
   "cell_type": "code",
   "execution_count": null,
   "metadata": {},
   "outputs": [],
   "source": []
  }
 ],
 "metadata": {
  "kernelspec": {
   "display_name": "Python 3",
   "language": "python",
   "name": "python3"
  },
  "language_info": {
   "codemirror_mode": {
    "name": "ipython",
    "version": 3
   },
   "file_extension": ".py",
   "mimetype": "text/x-python",
   "name": "python",
   "nbconvert_exporter": "python",
   "pygments_lexer": "ipython3",
   "version": "3.6.1"
  }
 },
 "nbformat": 4,
 "nbformat_minor": 2
}
