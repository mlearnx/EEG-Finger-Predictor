{
 "cells": [
  {
   "cell_type": "markdown",
   "metadata": {},
   "source": [
    "# Project 1 - EEG"
   ]
  },
  {
   "cell_type": "code",
   "execution_count": 1,
   "metadata": {},
   "outputs": [],
   "source": [
    "import dlc_bci as bci\n",
    "\n",
    "import torch\n",
    "from torch.autograd import Variable\n",
    "from torch.nn import functional as F\n",
    "from torch import Tensor"
   ]
  },
  {
   "cell_type": "code",
   "execution_count": 2,
   "metadata": {},
   "outputs": [
    {
     "name": "stdout",
     "output_type": "stream",
     "text": [
      "<class 'torch.FloatTensor'> torch.Size([316, 28, 500])\n",
      "<class 'torch.LongTensor'> torch.Size([316])\n"
     ]
    }
   ],
   "source": [
    "train_input , train_target = bci.load(root = './data_bci', one_khz=True)\n",
    "\n",
    "print(str(type(train_input)), train_input.size())\n",
    "print(str(type(train_target)), train_target.size())"
   ]
  },
  {
   "cell_type": "code",
   "execution_count": 3,
   "metadata": {},
   "outputs": [
    {
     "name": "stdout",
     "output_type": "stream",
     "text": [
      "<class 'torch.FloatTensor'> torch.Size([100, 28, 500])\n",
      "<class 'torch.LongTensor'> torch.Size([100])\n"
     ]
    }
   ],
   "source": [
    "test_input, test_target = bci.load(root = './data_bci', train=False, one_khz=True)\n",
    "print(str(type(test_input)), test_input.size())\n",
    "print(str(type(test_target)), test_target.size())"
   ]
  },
  {
   "cell_type": "code",
   "execution_count": 4,
   "metadata": {},
   "outputs": [],
   "source": [
    "# Reshaping to (batch, seq, feature)\n",
    "train_input = train_input.permute(0,2,1)\n",
    "test_input = test_input.permute(0,2,1)"
   ]
  },
  {
   "cell_type": "code",
   "execution_count": 5,
   "metadata": {},
   "outputs": [
    {
     "data": {
      "text/plain": [
       "(torch.Size([316, 500, 28]), torch.Size([100, 500, 28]))"
      ]
     },
     "execution_count": 5,
     "metadata": {},
     "output_type": "execute_result"
    }
   ],
   "source": [
    "train_input.shape, test_input.shape"
   ]
  },
  {
   "cell_type": "markdown",
   "metadata": {},
   "source": [
    "## Defining the model"
   ]
  },
  {
   "cell_type": "code",
   "execution_count": 6,
   "metadata": {},
   "outputs": [],
   "source": [
    "seq = train_input.shape[1] # 500\n",
    "input_size = train_input.shape[2] #28\n",
    "hidden_size = 32\n",
    "num_lstm_layers = 5\n",
    "n_hidden_fc = 128\n",
    "\n",
    "class Net(torch.nn.Module):\n",
    "    def __init__(self):\n",
    "        super(Net, self).__init__()\n",
    "        # LSTM input size is: (batch, seq, feature)\n",
    "        # LSTM output size is: (batch, seq, hidden_size)\n",
    "        self.lstm = torch.nn.LSTM(input_size=input_size,\n",
    "                                  hidden_size=hidden_size,\n",
    "                                  num_layers=num_lstm_layers,\n",
    "                                  batch_first=True)\n",
    "        self.fc1 = torch.nn.Linear(seq*hidden_size, n_hidden_fc)\n",
    "        self.fc2 = torch.nn.Linear(n_hidden_fc, 2)\n",
    "        self.sm = torch.nn.Softmax(1)\n",
    "\n",
    "    def forward(self, x):\n",
    "        x = self.lstm(x)[0]\n",
    "        x = x.contiguous().view(x.shape[0], -1) # flatten to (batch, seq*hidden_size)\n",
    "        x = F.relu(self.fc1(x))\n",
    "        x = self.sm(self.fc2(x))\n",
    "        return x\n",
    "    \n",
    "    def init_hidden(self):\n",
    "        # Before we've done anything, we dont have any hidden state.\n",
    "        # Refer to the Pytorch documentation to see exactly\n",
    "        # why they have this dimensionality.\n",
    "        # The axes semantics are (num_layers, minibatch_size, hidden_dim)\n",
    "        return (Variable(torch.zeros(4, num_lstm_layers, hidden_size)),\n",
    "                Variable(torch.zeros(4, num_lstm_layers, hidden_size)))"
   ]
  },
  {
   "cell_type": "code",
   "execution_count": 7,
   "metadata": {},
   "outputs": [],
   "source": [
    "def train_model(model, train_input, train_target, mini_batch_size, n_epochs, verbose=0):\n",
    "    criterion = torch.nn.CrossEntropyLoss()\n",
    "    optimizer = torch.optim.SGD(model.parameters(), lr=0.1)\n",
    "    eta = 1\n",
    "    \n",
    "    for e in range(n_epochs):\n",
    "        sum_loss = 0\n",
    "        # We do this with mini-batches\n",
    "        for b in range(0, train_input.size(0), mini_batch_size):\n",
    "            model.zero_grad()\n",
    "            model.hidden = model.init_hidden()\n",
    "            \n",
    "            output = model.forward(train_input.narrow(0, b, mini_batch_size))\n",
    "            loss = criterion(output, train_target.narrow(0, b, mini_batch_size))\n",
    "            sum_loss = sum_loss + loss.data[0]\n",
    "            loss.backward()\n",
    "            optimizer.step()\n",
    "        if verbose:\n",
    "            print(e, sum_loss)"
   ]
  },
  {
   "cell_type": "code",
   "execution_count": 8,
   "metadata": {},
   "outputs": [],
   "source": [
    "def compute_nb_errors(model, input, target, mini_batch_size):\n",
    "\n",
    "    nb_errors = 0\n",
    "\n",
    "    for b in range(0, input.size(0), mini_batch_size):\n",
    "        output = model(input.narrow(0, b, mini_batch_size))\n",
    "        predicted_classes = output.data.max(1)[1]\n",
    "        true_classes = target.data.narrow(0, b, mini_batch_size)\n",
    "        nb_errors += (predicted_classes == true_classes).sum()\n",
    "\n",
    "    return nb_errors"
   ]
  },
  {
   "cell_type": "code",
   "execution_count": 9,
   "metadata": {},
   "outputs": [],
   "source": [
    "train_input_var, train_target_var = Variable(train_input), Variable(train_target.long())\n",
    "test_input_var, test_target_var = Variable(test_input), Variable(test_target.long())"
   ]
  },
  {
   "cell_type": "code",
   "execution_count": 18,
   "metadata": {},
   "outputs": [
    {
     "name": "stdout",
     "output_type": "stream",
     "text": [
      "0 55.25463652610779\n",
      "1 54.89609384536743\n",
      "Test error: 49.00% 49/100\n",
      "Train error: 50.32% 159/316\n"
     ]
    }
   ],
   "source": [
    "mini_batch_size = 4\n",
    "epochs = 2\n",
    "\n",
    "model = Net()\n",
    "model.train()\n",
    "train_model(model, train_input_var, train_target_var, mini_batch_size, epochs, verbose=True)\n",
    "model.eval()\n",
    "nb_test_errors = compute_nb_errors(model, test_input_var, test_target_var, mini_batch_size)\n",
    "print('Test error: {:0.2f}% {:d}/{:d}'.format((100 * nb_test_errors) / test_input_var.size(0),\n",
    "                                                   nb_test_errors, test_input_var.size(0)))\n",
    "\n",
    "nb_train_errors = compute_nb_errors(model, train_input_var, train_target_var, mini_batch_size)\n",
    "print('Train error: {:0.2f}% {:d}/{:d}'.format((100 * nb_train_errors) / train_input_var.size(0),\n",
    "                                                   nb_train_errors, train_input_var.size(0)))"
   ]
  },
  {
   "cell_type": "code",
   "execution_count": 12,
   "metadata": {},
   "outputs": [
    {
     "data": {
      "text/plain": [
       "torch.Size([8, 500, 28])"
      ]
     },
     "execution_count": 12,
     "metadata": {},
     "output_type": "execute_result"
    }
   ],
   "source": [
    "train_input[[4,5,6,7,8,21,32,53]].shape"
   ]
  },
  {
   "cell_type": "code",
   "execution_count": 14,
   "metadata": {},
   "outputs": [
    {
     "data": {
      "text/plain": [
       "Variable containing:\n",
       " 0.5103  0.4897\n",
       " 0.5103  0.4897\n",
       " 0.5104  0.4896\n",
       " 0.5104  0.4896\n",
       " 0.5103  0.4897\n",
       " 0.5103  0.4897\n",
       " 0.5103  0.4897\n",
       " 0.5104  0.4896\n",
       "[torch.FloatTensor of size 8x2]"
      ]
     },
     "execution_count": 14,
     "metadata": {},
     "output_type": "execute_result"
    }
   ],
   "source": [
    "out = model.forward(train_input_var[[4,5,6,7,8,21,32,53]])\n",
    "out"
   ]
  },
  {
   "cell_type": "code",
   "execution_count": 15,
   "metadata": {},
   "outputs": [
    {
     "data": {
      "text/plain": [
       "Variable containing:\n",
       " 0\n",
       " 1\n",
       " 0\n",
       " 1\n",
       " 0\n",
       " 0\n",
       " 1\n",
       " 1\n",
       "[torch.LongTensor of size 8]"
      ]
     },
     "execution_count": 15,
     "metadata": {},
     "output_type": "execute_result"
    }
   ],
   "source": [
    "train_target_var[[4,5,6,7,8,21,32,53]]"
   ]
  },
  {
   "cell_type": "code",
   "execution_count": null,
   "metadata": {},
   "outputs": [],
   "source": []
  }
 ],
 "metadata": {
  "kernelspec": {
   "display_name": "ml",
   "language": "python",
   "name": "ml"
  },
  "language_info": {
   "codemirror_mode": {
    "name": "ipython",
    "version": 3
   },
   "file_extension": ".py",
   "mimetype": "text/x-python",
   "name": "python",
   "nbconvert_exporter": "python",
   "pygments_lexer": "ipython3",
   "version": "3.5.4"
  }
 },
 "nbformat": 4,
 "nbformat_minor": 2
}
